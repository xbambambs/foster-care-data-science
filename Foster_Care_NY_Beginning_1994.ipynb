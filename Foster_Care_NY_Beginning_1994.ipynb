{
 "cells": [
  {
   "cell_type": "code",
   "execution_count": 22,
   "id": "acd7c40d",
   "metadata": {},
   "outputs": [
    {
     "name": "stdout",
     "output_type": "stream",
     "text": [
      "   row\n",
      "0  NaN\n"
     ]
    }
   ],
   "source": [
    "import pandas as pd\n",
    "import xml.etree.ElementTree as et\n",
    "\n",
    "\n",
    "xtree = et.parse(\"/Users/bminaru/Documents/GitHub/foster-care-data-science/foster_care_annually_beginning_1994.xml\")\n",
    "xroot = xtree.getroot()\n",
    "\n",
    "df_cols = [\"county\", \"year\", \"children_in_care\", \"total_days_in_care\"]\n",
    "rows = []\n",
    "\n",
    "for node in xroot:\n",
    "    s_county = node.attrib.get(\"county\")\n",
    "    s_year = node.find(\"year\")\n",
    "    s_children_in_care = node.find(\"children_in_care\")\n",
    "\n",
    "    rows.append({\"county\": s_county,\n",
    "                 \"year\": s_year, \"children_in_care\": s_children_in_care})\n",
    "\n",
    "out_df = pd.DataFrame(rows, columns = df_cols)\n",
    "\n",
    "print(df)"
   ]
  },
  {
   "cell_type": "code",
   "execution_count": null,
   "id": "bda4dcab",
   "metadata": {},
   "outputs": [],
   "source": []
  }
 ],
 "metadata": {
  "kernelspec": {
   "display_name": "Python 3 (ipykernel)",
   "language": "python",
   "name": "python3"
  },
  "language_info": {
   "codemirror_mode": {
    "name": "ipython",
    "version": 3
   },
   "file_extension": ".py",
   "mimetype": "text/x-python",
   "name": "python",
   "nbconvert_exporter": "python",
   "pygments_lexer": "ipython3",
   "version": "3.9.12"
  }
 },
 "nbformat": 4,
 "nbformat_minor": 5
}
